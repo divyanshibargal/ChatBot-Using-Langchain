{
 "cells": [
  {
   "cell_type": "code",
   "execution_count": 43,
   "metadata": {},
   "outputs": [],
   "source": [
    "import os\n",
    "from dotenv import load_dotenv\n",
    "load_dotenv()\n",
    "from langchain_community import chains\n",
    "from langchain_community.chat_models import ChatOpenAI\n",
    "from langchain_core.prompts import ChatPromptTemplate\n",
    "from langchain_text_splitters import RecursiveCharacterTextSplitter\n",
    "from langchain_community.document_loaders import PyPDFLoader\n",
    "from langchain_community.vectorstores import FAISS\n",
    "from langchain_community.embeddings import OllamaEmbeddings\n",
    "from langchain_community import document_loaders\n",
    "\n",
    "os.environ[\"LANGCHAIN_TRACING_V2\"]=\"true\"\n",
    "os.environ[\"LANGCHAIN_API_KEY\"] = os.getenv(\"LANGCHAIN_API_KEY\")"
   ]
  },
  {
   "cell_type": "code",
   "execution_count": 44,
   "metadata": {},
   "outputs": [
    {
     "data": {
      "text/plain": [
       "[Document(metadata={'producer': 'iText® Core 7.2.2 (AGPL version), pdfHTML 4.0.2 (AGPL version) ©2000-2022 iText Group NV', 'creator': 'PyPDF', 'creationdate': '2025-09-23T15:43:01+00:00', 'moddate': '2025-09-23T15:43:01+00:00', 'source': 'Job Description.pdf', 'total_pages': 2, 'page': 0, 'page_label': '1'}, page_content='Associate System Engineer\\nEngineering 0 year FullTime Indore\\nCompany Description:\\nAmerican Chase is a leading IT consulting company in central India that provides staffing services to \\nFortune\\n500 clients across the US. Established in 2016, American Chase has expanded its service offerings to \\nprovide\\nIT services and solutions to a host of industries including banking - finance, communication, consumer\\nproducts, healthcare, insurance, technology, media-entertainment, publishing, education, healthcare, \\nenergy\\nand manufacturing industries. With offices located in Portland, Oregon, and Indore, (MP) India. American\\nChase is committed to customer satisfaction and innovation, helping clients accelerate next-generation\\nproducts to market.\\n \\nKey Responsibilities:\\n• Support the team in various software development tasks as needed.\\n• Collaborate with cross-functional teams to design, develop, test, and deploy software solutions.\\n• Write clean, efficient, and well-documented code.\\n• Assist in troubleshooting and debugging software issues.\\n• Contribute to the development and maintenance of software applications.\\n• Stay up-to-date with the latest industry trends, technologies, and best practices.\\n• Participate in code reviews and collaborate with senior developers to improve code quality.\\n \\nJob Description:\\n• Batch Required Graduate 2025\\n• Job Profile/ Title Associate System Engineer\\n• Job Type/ Shift Full Time (Night Shift)\\n• Eligible Degree & Branches BE / B.Tech - All Branches\\n• MCA - All Branches\\n• Eligibility Criteria\\n• 55% Throughout (10th, 12th, and Graduation)\\n• Excellent Communication Skills\\n• Compensation INR 321,000 Per Year\\n• Joining Date -\\n• Job Location Indore (M.P.) - Onsite Position\\n• Probation Period 90 Days\\n \\nOther Skills Required (If any)\\n• Excellent verbal and written communication skills.\\n• Excellent interpersonal skills.\\nAmerican Chase'),\n",
       " Document(metadata={'producer': 'iText® Core 7.2.2 (AGPL version), pdfHTML 4.0.2 (AGPL version) ©2000-2022 iText Group NV', 'creator': 'PyPDF', 'creationdate': '2025-09-23T15:43:01+00:00', 'moddate': '2025-09-23T15:43:01+00:00', 'source': 'Job Description.pdf', 'total_pages': 2, 'page': 1, 'page_label': '2'}, page_content='• Attention to Details\\n• Proactiveness\\n• Individual Leadership\\n \\nRecruitment Process\\n• Screening Round\\n• Interview – Level 1\\n• Interview – Level 2\\n• Interview – Level 3\\n• Results/ Offer\\n \\nCompensation - INR 3.21 LPA\\n \\nPerks & Benefits:\\n• 2 Lac Health Insurance\\n• Annual Bonus\\n• Shift Allowance\\n• Free Beverages\\n• Cab Facility for Female Employees\\n• Fun Friday\\n• Team Party\\nAmerican Chase')]"
      ]
     },
     "execution_count": 44,
     "metadata": {},
     "output_type": "execute_result"
    }
   ],
   "source": [
    "loader=PyPDFLoader('Job Description.pdf')\n",
    "docs=loader.load()\n",
    "docs"
   ]
  },
  {
   "cell_type": "code",
   "execution_count": 45,
   "metadata": {},
   "outputs": [
    {
     "data": {
      "text/plain": [
       "[Document(metadata={'producer': 'iText® Core 7.2.2 (AGPL version), pdfHTML 4.0.2 (AGPL version) ©2000-2022 iText Group NV', 'creator': 'PyPDF', 'creationdate': '2025-09-23T15:43:01+00:00', 'moddate': '2025-09-23T15:43:01+00:00', 'source': 'Job Description.pdf', 'total_pages': 2, 'page': 0, 'page_label': '1'}, page_content='Associate System Engineer\\nEngineering 0 year FullTime Indore\\nCompany Description:\\nAmerican Chase is a leading IT consulting company in central India that provides staffing services to \\nFortune\\n500 clients across the US. Established in 2016, American Chase has expanded its service offerings to \\nprovide\\nIT services and solutions to a host of industries including banking - finance, communication, consumer\\nproducts, healthcare, insurance, technology, media-entertainment, publishing, education, healthcare, \\nenergy\\nand manufacturing industries. With offices located in Portland, Oregon, and Indore, (MP) India. American\\nChase is committed to customer satisfaction and innovation, helping clients accelerate next-generation\\nproducts to market.\\n \\nKey Responsibilities:\\n• Support the team in various software development tasks as needed.\\n• Collaborate with cross-functional teams to design, develop, test, and deploy software solutions.\\n• Write clean, efficient, and well-documented code.'),\n",
       " Document(metadata={'producer': 'iText® Core 7.2.2 (AGPL version), pdfHTML 4.0.2 (AGPL version) ©2000-2022 iText Group NV', 'creator': 'PyPDF', 'creationdate': '2025-09-23T15:43:01+00:00', 'moddate': '2025-09-23T15:43:01+00:00', 'source': 'Job Description.pdf', 'total_pages': 2, 'page': 0, 'page_label': '1'}, page_content='• Collaborate with cross-functional teams to design, develop, test, and deploy software solutions.\\n• Write clean, efficient, and well-documented code.\\n• Assist in troubleshooting and debugging software issues.\\n• Contribute to the development and maintenance of software applications.\\n• Stay up-to-date with the latest industry trends, technologies, and best practices.\\n• Participate in code reviews and collaborate with senior developers to improve code quality.\\n \\nJob Description:\\n• Batch Required Graduate 2025\\n• Job Profile/ Title Associate System Engineer\\n• Job Type/ Shift Full Time (Night Shift)\\n• Eligible Degree & Branches BE / B.Tech - All Branches\\n• MCA - All Branches\\n• Eligibility Criteria\\n• 55% Throughout (10th, 12th, and Graduation)\\n• Excellent Communication Skills\\n• Compensation INR 321,000 Per Year\\n• Joining Date -\\n• Job Location Indore (M.P.) - Onsite Position\\n• Probation Period 90 Days\\n \\nOther Skills Required (If any)\\n• Excellent verbal and written communication skills.'),\n",
       " Document(metadata={'producer': 'iText® Core 7.2.2 (AGPL version), pdfHTML 4.0.2 (AGPL version) ©2000-2022 iText Group NV', 'creator': 'PyPDF', 'creationdate': '2025-09-23T15:43:01+00:00', 'moddate': '2025-09-23T15:43:01+00:00', 'source': 'Job Description.pdf', 'total_pages': 2, 'page': 0, 'page_label': '1'}, page_content='• Joining Date -\\n• Job Location Indore (M.P.) - Onsite Position\\n• Probation Period 90 Days\\n \\nOther Skills Required (If any)\\n• Excellent verbal and written communication skills.\\n• Excellent interpersonal skills.\\nAmerican Chase'),\n",
       " Document(metadata={'producer': 'iText® Core 7.2.2 (AGPL version), pdfHTML 4.0.2 (AGPL version) ©2000-2022 iText Group NV', 'creator': 'PyPDF', 'creationdate': '2025-09-23T15:43:01+00:00', 'moddate': '2025-09-23T15:43:01+00:00', 'source': 'Job Description.pdf', 'total_pages': 2, 'page': 1, 'page_label': '2'}, page_content='• Attention to Details\\n• Proactiveness\\n• Individual Leadership\\n \\nRecruitment Process\\n• Screening Round\\n• Interview – Level 1\\n• Interview – Level 2\\n• Interview – Level 3\\n• Results/ Offer\\n \\nCompensation - INR 3.21 LPA\\n \\nPerks & Benefits:\\n• 2 Lac Health Insurance\\n• Annual Bonus\\n• Shift Allowance\\n• Free Beverages\\n• Cab Facility for Female Employees\\n• Fun Friday\\n• Team Party\\nAmerican Chase')]"
      ]
     },
     "execution_count": 45,
     "metadata": {},
     "output_type": "execute_result"
    }
   ],
   "source": [
    "text_splitter=RecursiveCharacterTextSplitter(chunk_size=1000,chunk_overlap=200)\n",
    "chunk_documents=text_splitter.split_documents(docs)\n",
    "chunk_documents"
   ]
  },
  {
   "cell_type": "code",
   "execution_count": 46,
   "metadata": {},
   "outputs": [
    {
     "data": {
      "text/plain": [
       "<langchain_community.vectorstores.faiss.FAISS at 0x114625480>"
      ]
     },
     "execution_count": 46,
     "metadata": {},
     "output_type": "execute_result"
    }
   ],
   "source": [
    "from langchain_community.vectorstores import FAISS\n",
    "from langchain_community.embeddings import OllamaEmbeddings\n",
    "db=FAISS.from_documents(chunk_documents,OllamaEmbeddings())\n",
    "db"
   ]
  },
  {
   "cell_type": "code",
   "execution_count": 47,
   "metadata": {},
   "outputs": [],
   "source": [
    "retriever=db.as_retriever(search_kwargs={\"k\":3})"
   ]
  },
  {
   "cell_type": "code",
   "execution_count": 48,
   "metadata": {},
   "outputs": [],
   "source": [
    "from langchain_openai import ChatOpenAI\n",
    "from langchain_core.prompts import ChatPromptTemplate\n",
    "from langchain_community.llms import Ollama\n",
    " \n",
    "# LLM\n",
    "#llm = ChatOpenAI(model=\"gpt-4o-mini\", temperature=0)\n",
    "llm = Ollama(model=\"llama2\")\n",
    "# llm = Ollama(model=\"mistral\")\n",
    "# Custom prompt template\n",
    "prompt = ChatPromptTemplate.from_template(\"\"\"\n",
    "You are a helpful assistant. Use the following context to answer the question.in a concise manner .\n",
    " \n",
    "Context:\n",
    "{context}\n",
    " \n",
    "Question:\n",
    "{question}\n",
    " \n",
    "Answer concisely.\n",
    "\"\"\")"
   ]
  },
  {
   "cell_type": "code",
   "execution_count": 49,
   "metadata": {},
   "outputs": [],
   "source": [
    "from langchain_community.vectorstores import FAISS\n",
    "def ask_question(query):\n",
    "    # FAISS se context retrieve karo\n",
    "    docs = retriever.invoke(query)\n",
    "    context = \"\\n\\n\".join([d.page_content for d in docs])\n",
    "   \n",
    "    # Prompt format karo\n",
    "    formatted_prompt = prompt.format(context=context, question=query)\n",
    "   \n",
    "    # LLM se response lo\n",
    "    response = llm.invoke(formatted_prompt)\n",
    "    return response"
   ]
  },
  {
   "cell_type": "code",
   "execution_count": 42,
   "metadata": {},
   "outputs": [
    {
     "name": "stdout",
     "output_type": "stream",
     "text": [
      "There are 10 items in the job description:\n",
      "\n",
      "1. Batch required: Graduating class of 2025\n",
      "2. Job profile/title: Associate System Engineer\n",
      "3. Job type/shift: Full-time (night shift)\n",
      "4. Eligible degree & branches: BE/B.Tech - All Branches, MCA - All Branches\n",
      "5. Eligibility criteria: 55% throughout (10th, 12th, and graduation)\n",
      "6. Excellent communication skills\n",
      "7. Compensation: INR 321,000 per year\n",
      "8. Joining date: -\n",
      "9. Job location: Indore (M.P.), onsite position\n",
      "10. Probation period: 90 days\n"
     ]
    }
   ],
   "source": [
    "query = \" how many total items are there \"\n",
    "answer = ask_question(query)\n",
    "print(answer)"
   ]
  }
 ],
 "metadata": {
  "kernelspec": {
   "display_name": "myenv",
   "language": "python",
   "name": "python3"
  },
  "language_info": {
   "codemirror_mode": {
    "name": "ipython",
    "version": 3
   },
   "file_extension": ".py",
   "mimetype": "text/x-python",
   "name": "python",
   "nbconvert_exporter": "python",
   "pygments_lexer": "ipython3",
   "version": "3.13.6"
  },
  "orig_nbformat": 4
 },
 "nbformat": 4,
 "nbformat_minor": 2
}
